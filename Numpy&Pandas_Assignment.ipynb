{
 "cells": [
  {
   "cell_type": "markdown",
   "id": "5f9f701f-3a69-40e6-8b2e-6522bd5e27ce",
   "metadata": {},
   "source": [
    "# Numpy and Pandas assignment"
   ]
  },
  {
   "cell_type": "code",
   "execution_count": 2,
   "id": "875ddfc3-0c35-4d1f-af49-4e2287f96927",
   "metadata": {},
   "outputs": [],
   "source": [
    "import numpy as np\n",
    "import pandas as pd"
   ]
  },
  {
   "cell_type": "markdown",
   "id": "a6ec0d6d-951c-4480-bb91-02ae5df3c069",
   "metadata": {},
   "source": [
    "# Task 1: NumPy Basics"
   ]
  },
  {
   "cell_type": "markdown",
   "id": "c5681584-49fa-48d2-a530-284779188052",
   "metadata": {},
   "source": [
    "## 1. Array Creation"
   ]
  },
  {
   "cell_type": "markdown",
   "id": "681c40cf-cc11-4861-81fd-1c39ed5c30c6",
   "metadata": {},
   "source": [
    "- ### Create a 1D and a 2D NumPy array"
   ]
  },
  {
   "cell_type": "code",
   "execution_count": 7,
   "id": "8770da0b-dbfa-4bdd-895f-d15798447e80",
   "metadata": {},
   "outputs": [
    {
     "name": "stdout",
     "output_type": "stream",
     "text": [
      "1D Array:\n",
      " [1 2 3 4 5]\n"
     ]
    }
   ],
   "source": [
    "# Creating and assignming a 1D NumPy array\n",
    "arr_1d = np.array([1,2,3,4,5]) \n",
    "print(\"1D Array:\\n\", arr_1d)"
   ]
  },
  {
   "cell_type": "code",
   "execution_count": 6,
   "id": "7d768b57-dd2a-4198-a37e-7add5dcd420f",
   "metadata": {},
   "outputs": [
    {
     "name": "stdout",
     "output_type": "stream",
     "text": [
      "2D Array:\n",
      " [[1 2 3]\n",
      " [4 5 6]]\n"
     ]
    }
   ],
   "source": [
    "# Creating and assignming a 2D NumPy array\n",
    "arr_2d = np.array([[1,2,3],[4,5,6]])\n",
    "print(\"2D Array:\\n\",arr_2d)"
   ]
  },
  {
   "cell_type": "markdown",
   "id": "4b3883ef-47ec-470e-a4c2-e4167cad6f5d",
   "metadata": {},
   "source": [
    "## 2. Array Operations"
   ]
  },
  {
   "cell_type": "code",
   "execution_count": 19,
   "id": "2585ee65-b153-4a83-ad5d-1f99410c361e",
   "metadata": {},
   "outputs": [
    {
     "name": "stdout",
     "output_type": "stream",
     "text": [
      "1D Array + 10:\n",
      " [11 12 13 14 15]\n",
      "\n",
      "2D Array * 2:\n",
      " [[ 2  4  6]\n",
      " [ 8 10 12]]\n"
     ]
    }
   ],
   "source": [
    "# Perform basic arithmetic operations on the arrays\n",
    "arr_1d_add = arr_1d + 10 # adding 1D NumPy array  with 10\n",
    "arr_2d_mult = arr_2d * 2 # Multiplying 2D NumPy array by 2\n",
    "\n",
    "print(\"1D Array + 10:\\n\", arr_1d_add)\n",
    "print(\"\\n2D Array * 2:\\n\", arr_2d_mult)"
   ]
  },
  {
   "cell_type": "markdown",
   "id": "6f218336-28aa-426d-855b-f30b54765096",
   "metadata": {},
   "source": [
    "## 3. Indexing and Slicing"
   ]
  },
  {
   "cell_type": "code",
   "execution_count": 13,
   "id": "f8e84784-08e3-42c8-8cc8-cfdd39bd566d",
   "metadata": {},
   "outputs": [
    {
     "name": "stdout",
     "output_type": "stream",
     "text": [
      "First element of 1d array:\n",
      " 1\n",
      "\n",
      "First row of 2D arrya:\n",
      " [1 2 3]\n"
     ]
    }
   ],
   "source": [
    "# Demonstrate indexing and slicing on the arryas\n",
    "print(\"First element of 1d array:\\n\", arr_1d[0])\n",
    "print(\"\\nFirst row of 2D arrya:\\n\",arr_2d[0, :])"
   ]
  },
  {
   "cell_type": "markdown",
   "id": "9833bd98-d64f-4aa3-8330-6d2cb911d0d5",
   "metadata": {},
   "source": [
    "## 4.Shape and Reshape"
   ]
  },
  {
   "cell_type": "code",
   "execution_count": 17,
   "id": "45746c92-11bd-48c7-be37-f04b6267a828",
   "metadata": {},
   "outputs": [
    {
     "name": "stdout",
     "output_type": "stream",
     "text": [
      "2D Array:\n",
      " [[1 2 3]\n",
      " [4 5 6]]\n"
     ]
    }
   ],
   "source": [
    "print(\"2D Array:\\n\",arr_2d)"
   ]
  },
  {
   "cell_type": "code",
   "execution_count": 18,
   "id": "3403231f-5f0d-4602-8d3e-b0ff2d25e98b",
   "metadata": {},
   "outputs": [
    {
     "name": "stdout",
     "output_type": "stream",
     "text": [
      "Shape of 2D array: (2, 3)\n",
      "Reshaped 2D Array:\n",
      " [[1 2]\n",
      " [3 4]\n",
      " [5 6]]\n"
     ]
    }
   ],
   "source": [
    "# Show how to check the shape of an array and reshape it\n",
    "print(\"Shape of 2D array:\", arr_2d.shape)\n",
    "reshaped_arr = arr_2d.reshape((3,2))\n",
    "print(\"Reshaped 2D Array:\\n\", reshaped_arr)"
   ]
  },
  {
   "cell_type": "markdown",
   "id": "14d30f9e-1a24-46fc-827a-9ffe58c2b525",
   "metadata": {},
   "source": [
    "# Task 2: Pandas Basics"
   ]
  },
  {
   "cell_type": "markdown",
   "id": "d3b92cfb-5a34-4e97-96ff-e1de9b6b6db2",
   "metadata": {},
   "source": [
    "## 1. Series and DataFrame Creation"
   ]
  },
  {
   "cell_type": "code",
   "execution_count": 23,
   "id": "1940da67-18e4-4d91-9175-6c1dc592a117",
   "metadata": {},
   "outputs": [
    {
     "name": "stdout",
     "output_type": "stream",
     "text": [
      "Pandas Series:\n",
      " 0    1\n",
      "1    2\n",
      "2    3\n",
      "3    4\n",
      "4    5\n",
      "dtype: int64\n",
      "Pandas DataFrame:\n",
      "    A  B  C\n",
      "0  1  4  7\n",
      "1  2  5  8\n",
      "2  3  6  9\n"
     ]
    }
   ],
   "source": [
    "# Create a Pandas Series and DataFrame\n",
    "s = pd.Series([1,2,3,4,5])\n",
    "print(\"Pandas Series:\\n\", s)\n",
    "\n",
    "df = pd.DataFrame({\n",
    "    'A': [1, 2, 3],\n",
    "    'B': [4, 5, 6],\n",
    "    'C': [7, 8, 9]\n",
    "})\n",
    "print(\"Pandas DataFrame:\\n\", df)"
   ]
  },
  {
   "cell_type": "markdown",
   "id": "b0d66163-3dcd-4606-9049-994370e7ec25",
   "metadata": {},
   "source": [
    "## 2. Reading Data"
   ]
  },
  {
   "cell_type": "code",
   "execution_count": 26,
   "id": "ca3e8ea5-629d-4cfd-89b7-07267536eab5",
   "metadata": {},
   "outputs": [
    {
     "name": "stdout",
     "output_type": "stream",
     "text": [
      "Read DataFrame from CSV:\n",
      "    A  B  C\n",
      "0  1  4  7\n",
      "1  2  5  8\n",
      "2  3  6  9\n"
     ]
    }
   ],
   "source": [
    "# Read data from a CVS file (ensure you have a sample CSV file in your repository)\n",
    "df_read = pd.read_csv('sample_data.csv')\n",
    "print(\"Read DataFrame from CSV:\\n\", df_read)"
   ]
  },
  {
   "cell_type": "markdown",
   "id": "91ef343f-eea8-413d-b9a9-104ddf42ed03",
   "metadata": {},
   "source": [
    "## 3. Data Inspection"
   ]
  },
  {
   "cell_type": "code",
   "execution_count": 28,
   "id": "bd5872ff-c0dc-46e0-b060-bfb2e94e29dc",
   "metadata": {},
   "outputs": [
    {
     "name": "stdout",
     "output_type": "stream",
     "text": [
      "Head of DataFrame:\n",
      "    A  B  C\n",
      "0  1  4  7\n",
      "1  2  5  8\n",
      "2  3  6  9\n",
      "<class 'pandas.core.frame.DataFrame'>\n",
      "RangeIndex: 3 entries, 0 to 2\n",
      "Data columns (total 3 columns):\n",
      " #   Column  Non-Null Count  Dtype\n",
      "---  ------  --------------  -----\n",
      " 0   A       3 non-null      int64\n",
      " 1   B       3 non-null      int64\n",
      " 2   C       3 non-null      int64\n",
      "dtypes: int64(3)\n",
      "memory usage: 204.0 bytes\n",
      "\n",
      "Info of DataFrame:\n",
      " None\n",
      "\n",
      "Description of DataFrame:\n",
      "          A    B    C\n",
      "count  3.0  3.0  3.0\n",
      "mean   2.0  5.0  8.0\n",
      "std    1.0  1.0  1.0\n",
      "min    1.0  4.0  7.0\n",
      "25%    1.5  4.5  7.5\n",
      "50%    2.0  5.0  8.0\n",
      "75%    2.5  5.5  8.5\n",
      "max    3.0  6.0  9.0\n"
     ]
    }
   ],
   "source": [
    "# perform basic data inspection methods\n",
    "print(\"Head of DataFrame:\\n\", df.head())\n",
    "print(\"\\nInfo of DataFrame:\\n\", df.info())\n",
    "print(\"\\nDescription of DataFrame:\\n\", df.describe())"
   ]
  },
  {
   "cell_type": "markdown",
   "id": "644dff51-71da-413b-bf11-226e31a4a585",
   "metadata": {},
   "source": [
    "## 4. Data Manipulation"
   ]
  },
  {
   "cell_type": "code",
   "execution_count": 29,
   "id": "9c6d0093-4e3b-4247-9d6b-f3da10e06403",
   "metadata": {},
   "outputs": [
    {
     "name": "stdout",
     "output_type": "stream",
     "text": [
      "Column A:\n",
      " 0    1\n",
      "1    2\n",
      "2    3\n",
      "Name: A, dtype: int64\n",
      "Columns A and B:\n",
      "    A  B\n",
      "0  1  4\n",
      "1  2  5\n",
      "2  3  6\n"
     ]
    }
   ],
   "source": [
    "# Selecting Data\n",
    "print(\"Column A:\\n\", df['A'])\n",
    "print(\"Columns A and B:\\n\", df[['A', 'B']])"
   ]
  },
  {
   "cell_type": "code",
   "execution_count": 31,
   "id": "eeeea3a3-d7a2-47e5-8269-61ff2dfb2819",
   "metadata": {},
   "outputs": [
    {
     "name": "stdout",
     "output_type": "stream",
     "text": [
      "Filtered DataFrame (A > 1):\n",
      "    A  B  C\n",
      "1  2  5  8\n",
      "2  3  6  9\n"
     ]
    }
   ],
   "source": [
    "# Filtering Data\n",
    "filtered_df = df[df['A'] > 1]\n",
    "print(\"Filtered DataFrame (A > 1):\\n\", filtered_df)"
   ]
  },
  {
   "cell_type": "code",
   "execution_count": 33,
   "id": "896e525f-deef-4e36-b544-52f6feea2109",
   "metadata": {},
   "outputs": [
    {
     "name": "stdout",
     "output_type": "stream",
     "text": [
      "DataFrame with new column D:\n",
      "    A  B  C  D\n",
      "0  1  4  7  5\n",
      "1  2  5  8  7\n",
      "2  3  6  9  9\n",
      "\n",
      "DataFrame after dropping column D:\n",
      "    A  B  C\n",
      "0  1  4  7\n",
      "1  2  5  8\n",
      "2  3  6  9\n"
     ]
    }
   ],
   "source": [
    "# Adding/Removing Columns\n",
    "df['D'] = df['A'] + df['B']\n",
    "print(\"DataFrame with new column D:\\n\", df)\n",
    "df.drop('D', axis=1, inplace=True)\n",
    "print(\"\\nDataFrame after dropping column D:\\n\", df)"
   ]
  },
  {
   "cell_type": "code",
   "execution_count": 36,
   "id": "944bfd0b-d993-40e8-ac7b-92c9927f1c24",
   "metadata": {},
   "outputs": [
    {
     "name": "stdout",
     "output_type": "stream",
     "text": [
      "DataFrame with NaN:\n",
      "    A    B  C\n",
      "0  1  4.0  7\n",
      "1  2  NaN  8\n",
      "2  3  6.0  9\n",
      "\n",
      "DataFrame after dropping NaN:\n",
      "    A    B  C\n",
      "0  1  4.0  7\n",
      "2  3  6.0  9\n",
      "\n",
      "DataFrame after filling NaN with 0:\n",
      "    A    B  C\n",
      "0  1  4.0  7\n",
      "1  2  0.0  8\n",
      "2  3  6.0  9\n"
     ]
    }
   ],
   "source": [
    "# Handling Missing Data\n",
    "df_with_nan = df.copy()\n",
    "df_with_nan.loc[1, 'B'] = np.nan\n",
    "print(\"DataFrame with NaN:\\n\", df_with_nan)\n",
    "print(\"\\nDataFrame after dropping NaN:\\n\", df_with_nan.dropna())\n",
    "print(\"\\nDataFrame after filling NaN with 0:\\n\", df_with_nan.fillna(0))"
   ]
  },
  {
   "cell_type": "markdown",
   "id": "e7dddaaf-62c7-4669-b187-9a3467d37647",
   "metadata": {},
   "source": [
    "# Task 3: Data Analysis with Pandas"
   ]
  },
  {
   "cell_type": "code",
   "execution_count": 39,
   "id": "263390e6-3ee0-4c7a-afa6-e9da093d46d0",
   "metadata": {},
   "outputs": [
    {
     "name": "stdout",
     "output_type": "stream",
     "text": [
      "Mean of column A: 2.0\n",
      "Sum of column A: 6\n"
     ]
    }
   ],
   "source": [
    "# Aggregations\n",
    "print(\"Mean of column A:\", df['A'].mean())\n",
    "print(\"Sum of column A:\", df['A'].sum())"
   ]
  },
  {
   "cell_type": "code",
   "execution_count": 40,
   "id": "70138112-5654-424c-84be-0702dfc42c69",
   "metadata": {},
   "outputs": [
    {
     "name": "stdout",
     "output_type": "stream",
     "text": [
      "Merged DataFrame:\n",
      "   key  value_x  value_y\n",
      "0   A        1        4\n",
      "1   B        2        5\n"
     ]
    }
   ],
   "source": [
    "# Merging and Joining\n",
    "df1 = pd.DataFrame({'key': ['A', 'B', 'C'], 'value': [1, 2, 3]})\n",
    "df2 = pd.DataFrame({'key': ['A', 'B', 'D'], 'value': [4, 5, 6]})\n",
    "merged_df = pd.merge(df1, df2, on='key', how='inner')\n",
    "print(\"Merged DataFrame:\\n\", merged_df)"
   ]
  },
  {
   "cell_type": "code",
   "execution_count": 41,
   "id": "840ef0dd-ced3-4e41-b1e3-cff3d2140b7f",
   "metadata": {},
   "outputs": [
    {
     "name": "stdout",
     "output_type": "stream",
     "text": [
      "Pivot Table:\n",
      " B    4    5    6\n",
      "A               \n",
      "1  7.0  NaN  NaN\n",
      "2  NaN  8.0  NaN\n",
      "3  NaN  NaN  9.0\n"
     ]
    }
   ],
   "source": [
    "# Pivot Tables\n",
    "pivot_df = df.pivot_table(values='C', index='A', columns='B', aggfunc='mean')\n",
    "print(\"Pivot Table:\\n\", pivot_df)"
   ]
  },
  {
   "cell_type": "code",
   "execution_count": 42,
   "id": "2b81dc66-665b-4857-8663-68662309819d",
   "metadata": {},
   "outputs": [
    {
     "name": "stdout",
     "output_type": "stream",
     "text": [
      "DataFrame with Date Index:\n",
      "             A  B  C\n",
      "date               \n",
      "2020-01-01  1  4  7\n",
      "2020-01-02  2  5  8\n",
      "2020-01-03  3  6  9\n",
      "Resampled DataFrame:\n",
      "               A    B    C\n",
      "date                     \n",
      "2020-01-31  2.0  5.0  8.0\n"
     ]
    }
   ],
   "source": [
    "# Time Series Analysis\n",
    "df['date'] = pd.date_range(start='1/1/2020', periods=len(df), freq='D')\n",
    "df.set_index('date',inplace=True)\n",
    "print(\"DataFrame with Date Index:\\n\", df)\n",
    "resampled_df = df.resample('M').mean()\n",
    "print(\"Resampled DataFrame:\\n\", resampled_df)"
   ]
  },
  {
   "cell_type": "code",
   "execution_count": null,
   "id": "7b7dde06-accd-436d-b1b2-27898e715120",
   "metadata": {},
   "outputs": [],
   "source": []
  }
 ],
 "metadata": {
  "kernelspec": {
   "display_name": "Python 3 (ipykernel)",
   "language": "python",
   "name": "python3"
  },
  "language_info": {
   "codemirror_mode": {
    "name": "ipython",
    "version": 3
   },
   "file_extension": ".py",
   "mimetype": "text/x-python",
   "name": "python",
   "nbconvert_exporter": "python",
   "pygments_lexer": "ipython3",
   "version": "3.11.7"
  }
 },
 "nbformat": 4,
 "nbformat_minor": 5
}
